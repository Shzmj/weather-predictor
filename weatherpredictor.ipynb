{
 "cells": [
  {
   "attachments": {},
   "cell_type": "markdown",
   "metadata": {},
   "source": [
    "# Machine learning Weather prediction model"
   ]
  },
  {
   "cell_type": "code",
   "execution_count": 58,
   "metadata": {},
   "outputs": [],
   "source": [
    "import pandas as pd\n",
    "import matplotlib as mlt\n",
    "weather = pd.read_csv(\"syd_weather.csv\", index_col=\"DATE\")"
   ]
  },
  {
   "cell_type": "code",
   "execution_count": 59,
   "metadata": {},
   "outputs": [
    {
     "data": {
      "text/html": [
       "<div>\n",
       "<style scoped>\n",
       "    .dataframe tbody tr th:only-of-type {\n",
       "        vertical-align: middle;\n",
       "    }\n",
       "\n",
       "    .dataframe tbody tr th {\n",
       "        vertical-align: top;\n",
       "    }\n",
       "\n",
       "    .dataframe thead th {\n",
       "        text-align: right;\n",
       "    }\n",
       "</style>\n",
       "<table border=\"1\" class=\"dataframe\">\n",
       "  <thead>\n",
       "    <tr style=\"text-align: right;\">\n",
       "      <th></th>\n",
       "      <th>STATION</th>\n",
       "      <th>NAME</th>\n",
       "      <th>PRCP</th>\n",
       "      <th>TAVG</th>\n",
       "      <th>TMAX</th>\n",
       "      <th>TMIN</th>\n",
       "    </tr>\n",
       "    <tr>\n",
       "      <th>DATE</th>\n",
       "      <th></th>\n",
       "      <th></th>\n",
       "      <th></th>\n",
       "      <th></th>\n",
       "      <th></th>\n",
       "      <th></th>\n",
       "    </tr>\n",
       "  </thead>\n",
       "  <tbody>\n",
       "    <tr>\n",
       "      <th>1970-01-01</th>\n",
       "      <td>ASN00066037</td>\n",
       "      <td>SYDNEY AIRPORT AMO, AS</td>\n",
       "      <td>2.3</td>\n",
       "      <td>NaN</td>\n",
       "      <td>25.4</td>\n",
       "      <td>18.4</td>\n",
       "    </tr>\n",
       "    <tr>\n",
       "      <th>1970-01-02</th>\n",
       "      <td>ASN00066037</td>\n",
       "      <td>SYDNEY AIRPORT AMO, AS</td>\n",
       "      <td>4.1</td>\n",
       "      <td>NaN</td>\n",
       "      <td>28.1</td>\n",
       "      <td>18.7</td>\n",
       "    </tr>\n",
       "    <tr>\n",
       "      <th>1970-01-03</th>\n",
       "      <td>ASN00066037</td>\n",
       "      <td>SYDNEY AIRPORT AMO, AS</td>\n",
       "      <td>0.0</td>\n",
       "      <td>NaN</td>\n",
       "      <td>24.8</td>\n",
       "      <td>16.6</td>\n",
       "    </tr>\n",
       "    <tr>\n",
       "      <th>1970-01-04</th>\n",
       "      <td>ASN00066037</td>\n",
       "      <td>SYDNEY AIRPORT AMO, AS</td>\n",
       "      <td>0.0</td>\n",
       "      <td>NaN</td>\n",
       "      <td>27.6</td>\n",
       "      <td>16.8</td>\n",
       "    </tr>\n",
       "    <tr>\n",
       "      <th>1970-01-05</th>\n",
       "      <td>ASN00066037</td>\n",
       "      <td>SYDNEY AIRPORT AMO, AS</td>\n",
       "      <td>0.0</td>\n",
       "      <td>NaN</td>\n",
       "      <td>27.3</td>\n",
       "      <td>15.7</td>\n",
       "    </tr>\n",
       "    <tr>\n",
       "      <th>...</th>\n",
       "      <td>...</td>\n",
       "      <td>...</td>\n",
       "      <td>...</td>\n",
       "      <td>...</td>\n",
       "      <td>...</td>\n",
       "      <td>...</td>\n",
       "    </tr>\n",
       "    <tr>\n",
       "      <th>2023-01-04</th>\n",
       "      <td>ASN00066037</td>\n",
       "      <td>SYDNEY AIRPORT AMO, AS</td>\n",
       "      <td>0.0</td>\n",
       "      <td>NaN</td>\n",
       "      <td>NaN</td>\n",
       "      <td>NaN</td>\n",
       "    </tr>\n",
       "    <tr>\n",
       "      <th>2023-01-05</th>\n",
       "      <td>ASN00066037</td>\n",
       "      <td>SYDNEY AIRPORT AMO, AS</td>\n",
       "      <td>0.0</td>\n",
       "      <td>NaN</td>\n",
       "      <td>NaN</td>\n",
       "      <td>NaN</td>\n",
       "    </tr>\n",
       "    <tr>\n",
       "      <th>2023-01-06</th>\n",
       "      <td>ASN00066037</td>\n",
       "      <td>SYDNEY AIRPORT AMO, AS</td>\n",
       "      <td>0.3</td>\n",
       "      <td>NaN</td>\n",
       "      <td>NaN</td>\n",
       "      <td>NaN</td>\n",
       "    </tr>\n",
       "    <tr>\n",
       "      <th>2023-01-07</th>\n",
       "      <td>ASN00066037</td>\n",
       "      <td>SYDNEY AIRPORT AMO, AS</td>\n",
       "      <td>0.3</td>\n",
       "      <td>NaN</td>\n",
       "      <td>NaN</td>\n",
       "      <td>NaN</td>\n",
       "    </tr>\n",
       "    <tr>\n",
       "      <th>2023-01-08</th>\n",
       "      <td>ASN00066037</td>\n",
       "      <td>SYDNEY AIRPORT AMO, AS</td>\n",
       "      <td>0.0</td>\n",
       "      <td>NaN</td>\n",
       "      <td>NaN</td>\n",
       "      <td>NaN</td>\n",
       "    </tr>\n",
       "  </tbody>\n",
       "</table>\n",
       "<p>19366 rows × 6 columns</p>\n",
       "</div>"
      ],
      "text/plain": [
       "                STATION                    NAME  PRCP  TAVG  TMAX  TMIN\n",
       "DATE                                                                   \n",
       "1970-01-01  ASN00066037  SYDNEY AIRPORT AMO, AS   2.3   NaN  25.4  18.4\n",
       "1970-01-02  ASN00066037  SYDNEY AIRPORT AMO, AS   4.1   NaN  28.1  18.7\n",
       "1970-01-03  ASN00066037  SYDNEY AIRPORT AMO, AS   0.0   NaN  24.8  16.6\n",
       "1970-01-04  ASN00066037  SYDNEY AIRPORT AMO, AS   0.0   NaN  27.6  16.8\n",
       "1970-01-05  ASN00066037  SYDNEY AIRPORT AMO, AS   0.0   NaN  27.3  15.7\n",
       "...                 ...                     ...   ...   ...   ...   ...\n",
       "2023-01-04  ASN00066037  SYDNEY AIRPORT AMO, AS   0.0   NaN   NaN   NaN\n",
       "2023-01-05  ASN00066037  SYDNEY AIRPORT AMO, AS   0.0   NaN   NaN   NaN\n",
       "2023-01-06  ASN00066037  SYDNEY AIRPORT AMO, AS   0.3   NaN   NaN   NaN\n",
       "2023-01-07  ASN00066037  SYDNEY AIRPORT AMO, AS   0.3   NaN   NaN   NaN\n",
       "2023-01-08  ASN00066037  SYDNEY AIRPORT AMO, AS   0.0   NaN   NaN   NaN\n",
       "\n",
       "[19366 rows x 6 columns]"
      ]
     },
     "execution_count": 59,
     "metadata": {},
     "output_type": "execute_result"
    }
   ],
   "source": [
    "weather"
   ]
  },
  {
   "attachments": {},
   "cell_type": "markdown",
   "metadata": {},
   "source": [
    "# checking which columns contain the most missing values"
   ]
  },
  {
   "cell_type": "code",
   "execution_count": 60,
   "metadata": {},
   "outputs": [
    {
     "data": {
      "text/plain": [
       "STATION    0.000000\n",
       "NAME       0.000000\n",
       "PRCP       0.000413\n",
       "TAVG       0.062016\n",
       "TMAX       0.000568\n",
       "TMIN       0.000981\n",
       "dtype: float64"
      ]
     },
     "execution_count": 60,
     "metadata": {},
     "output_type": "execute_result"
    }
   ],
   "source": [
    "null_percentage = weather.apply(pd.isnull).sum()/weather.shape[0]\n",
    "null_percentage"
   ]
  },
  {
   "attachments": {},
   "cell_type": "markdown",
   "metadata": {},
   "source": [
    "checking which columns contain a good amount of data\n"
   ]
  },
  {
   "cell_type": "code",
   "execution_count": 61,
   "metadata": {},
   "outputs": [
    {
     "data": {
      "text/plain": [
       "Index(['STATION', 'NAME', 'PRCP', 'TMAX', 'TMIN'], dtype='object')"
      ]
     },
     "execution_count": 61,
     "metadata": {},
     "output_type": "execute_result"
    }
   ],
   "source": [
    "valid_columns = weather.columns[null_percentage < 0.05]\n",
    "valid_columns"
   ]
  },
  {
   "cell_type": "code",
   "execution_count": 62,
   "metadata": {},
   "outputs": [],
   "source": [
    "weather = weather[valid_columns].copy()"
   ]
  },
  {
   "attachments": {},
   "cell_type": "markdown",
   "metadata": {},
   "source": [
    "using forward fill to fill in the missing values (for example data seems to be missing for 2023)"
   ]
  },
  {
   "cell_type": "code",
   "execution_count": 63,
   "metadata": {},
   "outputs": [
    {
     "data": {
      "text/plain": [
       "STATION    0.0\n",
       "NAME       0.0\n",
       "PRCP       0.0\n",
       "TMAX       0.0\n",
       "TMIN       0.0\n",
       "dtype: float64"
      ]
     },
     "execution_count": 63,
     "metadata": {},
     "output_type": "execute_result"
    }
   ],
   "source": [
    "weather = weather.ffill()\n",
    "null_percentage = weather.apply(pd.isnull).sum()/weather.shape[0]\n",
    "null_percentage"
   ]
  },
  {
   "attachments": {},
   "cell_type": "markdown",
   "metadata": {},
   "source": [
    "making sure that columns contain the correct data types"
   ]
  },
  {
   "cell_type": "code",
   "execution_count": 64,
   "metadata": {},
   "outputs": [
    {
     "data": {
      "text/plain": [
       "STATION     object\n",
       "NAME        object\n",
       "PRCP       float64\n",
       "TMAX       float64\n",
       "TMIN       float64\n",
       "dtype: object"
      ]
     },
     "execution_count": 64,
     "metadata": {},
     "output_type": "execute_result"
    }
   ],
   "source": [
    "weather.dtypes"
   ]
  },
  {
   "cell_type": "code",
   "execution_count": 65,
   "metadata": {},
   "outputs": [
    {
     "data": {
      "text/plain": [
       "Index(['1970-01-01', '1970-01-02', '1970-01-03', '1970-01-04', '1970-01-05',\n",
       "       '1970-01-06', '1970-01-07', '1970-01-08', '1970-01-09', '1970-01-10',\n",
       "       ...\n",
       "       '2022-12-30', '2022-12-31', '2023-01-01', '2023-01-02', '2023-01-03',\n",
       "       '2023-01-04', '2023-01-05', '2023-01-06', '2023-01-07', '2023-01-08'],\n",
       "      dtype='object', name='DATE', length=19366)"
      ]
     },
     "execution_count": 65,
     "metadata": {},
     "output_type": "execute_result"
    }
   ],
   "source": [
    "weather.index"
   ]
  },
  {
   "attachments": {},
   "cell_type": "markdown",
   "metadata": {},
   "source": [
    "need to change the date column to a datetime object"
   ]
  },
  {
   "cell_type": "code",
   "execution_count": 66,
   "metadata": {},
   "outputs": [
    {
     "data": {
      "text/plain": [
       "DatetimeIndex(['1970-01-01', '1970-01-02', '1970-01-03', '1970-01-04',\n",
       "               '1970-01-05', '1970-01-06', '1970-01-07', '1970-01-08',\n",
       "               '1970-01-09', '1970-01-10',\n",
       "               ...\n",
       "               '2022-12-30', '2022-12-31', '2023-01-01', '2023-01-02',\n",
       "               '2023-01-03', '2023-01-04', '2023-01-05', '2023-01-06',\n",
       "               '2023-01-07', '2023-01-08'],\n",
       "              dtype='datetime64[ns]', name='DATE', length=19366, freq=None)"
      ]
     },
     "execution_count": 66,
     "metadata": {},
     "output_type": "execute_result"
    }
   ],
   "source": [
    "weather.index = pd.to_datetime(weather.index)\n",
    "weather.index"
   ]
  },
  {
   "cell_type": "code",
   "execution_count": 67,
   "metadata": {},
   "outputs": [
    {
     "data": {
      "text/plain": [
       "Int64Index([1970, 1970, 1970, 1970, 1970, 1970, 1970, 1970, 1970, 1970,\n",
       "            ...\n",
       "            2022, 2022, 2023, 2023, 2023, 2023, 2023, 2023, 2023, 2023],\n",
       "           dtype='int64', name='DATE', length=19366)"
      ]
     },
     "execution_count": 67,
     "metadata": {},
     "output_type": "execute_result"
    }
   ],
   "source": [
    "weather.index.year"
   ]
  },
  {
   "attachments": {},
   "cell_type": "markdown",
   "metadata": {},
   "source": [
    "making sure we dont have gaps in our data (i.e. missing years)"
   ]
  },
  {
   "cell_type": "code",
   "execution_count": 68,
   "metadata": {},
   "outputs": [
    {
     "data": {
      "text/plain": [
       "1970    365\n",
       "1971    365\n",
       "1972    366\n",
       "1973    365\n",
       "1974    365\n",
       "1975    365\n",
       "1976    366\n",
       "1977    365\n",
       "1978    365\n",
       "1979    365\n",
       "1980    366\n",
       "1981    365\n",
       "1982    365\n",
       "1983    365\n",
       "1984    366\n",
       "1985    365\n",
       "1986    365\n",
       "1987    365\n",
       "1988    366\n",
       "1989    365\n",
       "1990    365\n",
       "1991    365\n",
       "1992    366\n",
       "1993    365\n",
       "1994    365\n",
       "1995    365\n",
       "1996    366\n",
       "1997    365\n",
       "1998    365\n",
       "1999    365\n",
       "2000    366\n",
       "2001    365\n",
       "2002    365\n",
       "2003    365\n",
       "2004    366\n",
       "2005    365\n",
       "2006    365\n",
       "2007    365\n",
       "2008    366\n",
       "2009    365\n",
       "2010    365\n",
       "2011    365\n",
       "2012    366\n",
       "2013    365\n",
       "2014    365\n",
       "2015    365\n",
       "2016    366\n",
       "2017    365\n",
       "2018    365\n",
       "2019    365\n",
       "2020    366\n",
       "2021    365\n",
       "2022    365\n",
       "2023      8\n",
       "Name: DATE, dtype: int64"
      ]
     },
     "execution_count": 68,
     "metadata": {},
     "output_type": "execute_result"
    }
   ],
   "source": [
    "weather.index.year.value_counts().sort_index()"
   ]
  },
  {
   "cell_type": "code",
   "execution_count": 69,
   "metadata": {},
   "outputs": [
    {
     "data": {
      "text/plain": [
       "<AxesSubplot: xlabel='DATE'>"
      ]
     },
     "execution_count": 69,
     "metadata": {},
     "output_type": "execute_result"
    },
    {
     "data": {
      "image/png": "[encoded data removed]",
      "text/plain": [
       "<Figure size 640x480 with 1 Axes>"
      ]
     },
     "metadata": {},
     "output_type": "display_data"
    }
   ],
   "source": [
    "weather[\"TMAX\"].plot()"
   ]
  },
  {
   "cell_type": "code",
   "execution_count": 70,
   "metadata": {},
   "outputs": [
    {
     "data": {
      "text/plain": [
       "<AxesSubplot: xlabel='DATE'>"
      ]
     },
     "execution_count": 70,
     "metadata": {},
     "output_type": "execute_result"
    },
    {
     "data": {
      "image/png": "[encoded data removed]",
      "text/plain": [
       "<Figure size 640x480 with 1 Axes>"
      ]
     },
     "metadata": {},
     "output_type": "display_data"
    }
   ],
   "source": [
    "weather[\"PRCP\"].plot()"
   ]
  },
  {
   "cell_type": "code",
   "execution_count": 71,
   "metadata": {},
   "outputs": [
    {
     "data": {
      "text/html": [
       "<div>\n",
       "<style scoped>\n",
       "    .dataframe tbody tr th:only-of-type {\n",
       "        vertical-align: middle;\n",
       "    }\n",
       "\n",
       "    .dataframe tbody tr th {\n",
       "        vertical-align: top;\n",
       "    }\n",
       "\n",
       "    .dataframe thead th {\n",
       "        text-align: right;\n",
       "    }\n",
       "</style>\n",
       "<table border=\"1\" class=\"dataframe\">\n",
       "  <thead>\n",
       "    <tr style=\"text-align: right;\">\n",
       "      <th></th>\n",
       "      <th>STATION</th>\n",
       "      <th>NAME</th>\n",
       "      <th>PRCP</th>\n",
       "      <th>TMAX</th>\n",
       "      <th>TMIN</th>\n",
       "    </tr>\n",
       "    <tr>\n",
       "      <th>DATE</th>\n",
       "      <th></th>\n",
       "      <th></th>\n",
       "      <th></th>\n",
       "      <th></th>\n",
       "      <th></th>\n",
       "    </tr>\n",
       "  </thead>\n",
       "  <tbody>\n",
       "    <tr>\n",
       "      <th>1970-01-01</th>\n",
       "      <td>ASN00066037</td>\n",
       "      <td>SYDNEY AIRPORT AMO, AS</td>\n",
       "      <td>2.3</td>\n",
       "      <td>25.4</td>\n",
       "      <td>18.4</td>\n",
       "    </tr>\n",
       "    <tr>\n",
       "      <th>1970-01-02</th>\n",
       "      <td>ASN00066037</td>\n",
       "      <td>SYDNEY AIRPORT AMO, AS</td>\n",
       "      <td>4.1</td>\n",
       "      <td>28.1</td>\n",
       "      <td>18.7</td>\n",
       "    </tr>\n",
       "    <tr>\n",
       "      <th>1970-01-03</th>\n",
       "      <td>ASN00066037</td>\n",
       "      <td>SYDNEY AIRPORT AMO, AS</td>\n",
       "      <td>0.0</td>\n",
       "      <td>24.8</td>\n",
       "      <td>16.6</td>\n",
       "    </tr>\n",
       "    <tr>\n",
       "      <th>1970-01-04</th>\n",
       "      <td>ASN00066037</td>\n",
       "      <td>SYDNEY AIRPORT AMO, AS</td>\n",
       "      <td>0.0</td>\n",
       "      <td>27.6</td>\n",
       "      <td>16.8</td>\n",
       "    </tr>\n",
       "    <tr>\n",
       "      <th>1970-01-05</th>\n",
       "      <td>ASN00066037</td>\n",
       "      <td>SYDNEY AIRPORT AMO, AS</td>\n",
       "      <td>0.0</td>\n",
       "      <td>27.3</td>\n",
       "      <td>15.7</td>\n",
       "    </tr>\n",
       "    <tr>\n",
       "      <th>...</th>\n",
       "      <td>...</td>\n",
       "      <td>...</td>\n",
       "      <td>...</td>\n",
       "      <td>...</td>\n",
       "      <td>...</td>\n",
       "    </tr>\n",
       "    <tr>\n",
       "      <th>2023-01-04</th>\n",
       "      <td>ASN00066037</td>\n",
       "      <td>SYDNEY AIRPORT AMO, AS</td>\n",
       "      <td>0.0</td>\n",
       "      <td>27.1</td>\n",
       "      <td>17.9</td>\n",
       "    </tr>\n",
       "    <tr>\n",
       "      <th>2023-01-05</th>\n",
       "      <td>ASN00066037</td>\n",
       "      <td>SYDNEY AIRPORT AMO, AS</td>\n",
       "      <td>0.0</td>\n",
       "      <td>27.1</td>\n",
       "      <td>17.9</td>\n",
       "    </tr>\n",
       "    <tr>\n",
       "      <th>2023-01-06</th>\n",
       "      <td>ASN00066037</td>\n",
       "      <td>SYDNEY AIRPORT AMO, AS</td>\n",
       "      <td>0.3</td>\n",
       "      <td>27.1</td>\n",
       "      <td>17.9</td>\n",
       "    </tr>\n",
       "    <tr>\n",
       "      <th>2023-01-07</th>\n",
       "      <td>ASN00066037</td>\n",
       "      <td>SYDNEY AIRPORT AMO, AS</td>\n",
       "      <td>0.3</td>\n",
       "      <td>27.1</td>\n",
       "      <td>17.9</td>\n",
       "    </tr>\n",
       "    <tr>\n",
       "      <th>2023-01-08</th>\n",
       "      <td>ASN00066037</td>\n",
       "      <td>SYDNEY AIRPORT AMO, AS</td>\n",
       "      <td>0.0</td>\n",
       "      <td>27.1</td>\n",
       "      <td>17.9</td>\n",
       "    </tr>\n",
       "  </tbody>\n",
       "</table>\n",
       "<p>19366 rows × 5 columns</p>\n",
       "</div>"
      ],
      "text/plain": [
       "                STATION                    NAME  PRCP  TMAX  TMIN\n",
       "DATE                                                             \n",
       "1970-01-01  ASN00066037  SYDNEY AIRPORT AMO, AS   2.3  25.4  18.4\n",
       "1970-01-02  ASN00066037  SYDNEY AIRPORT AMO, AS   4.1  28.1  18.7\n",
       "1970-01-03  ASN00066037  SYDNEY AIRPORT AMO, AS   0.0  24.8  16.6\n",
       "1970-01-04  ASN00066037  SYDNEY AIRPORT AMO, AS   0.0  27.6  16.8\n",
       "1970-01-05  ASN00066037  SYDNEY AIRPORT AMO, AS   0.0  27.3  15.7\n",
       "...                 ...                     ...   ...   ...   ...\n",
       "2023-01-04  ASN00066037  SYDNEY AIRPORT AMO, AS   0.0  27.1  17.9\n",
       "2023-01-05  ASN00066037  SYDNEY AIRPORT AMO, AS   0.0  27.1  17.9\n",
       "2023-01-06  ASN00066037  SYDNEY AIRPORT AMO, AS   0.3  27.1  17.9\n",
       "2023-01-07  ASN00066037  SYDNEY AIRPORT AMO, AS   0.3  27.1  17.9\n",
       "2023-01-08  ASN00066037  SYDNEY AIRPORT AMO, AS   0.0  27.1  17.9\n",
       "\n",
       "[19366 rows x 5 columns]"
      ]
     },
     "execution_count": 71,
     "metadata": {},
     "output_type": "execute_result"
    }
   ],
   "source": [
    "weather"
   ]
  },
  {
   "attachments": {},
   "cell_type": "markdown",
   "metadata": {},
   "source": [
    "to be able to predict into the future we need to shift all the values back by one day so that we can add a new column for our target prediction"
   ]
  },
  {
   "cell_type": "code",
   "execution_count": 72,
   "metadata": {},
   "outputs": [
    {
     "data": {
      "text/html": [
       "<div>\n",
       "<style scoped>\n",
       "    .dataframe tbody tr th:only-of-type {\n",
       "        vertical-align: middle;\n",
       "    }\n",
       "\n",
       "    .dataframe tbody tr th {\n",
       "        vertical-align: top;\n",
       "    }\n",
       "\n",
       "    .dataframe thead th {\n",
       "        text-align: right;\n",
       "    }\n",
       "</style>\n",
       "<table border=\"1\" class=\"dataframe\">\n",
       "  <thead>\n",
       "    <tr style=\"text-align: right;\">\n",
       "      <th></th>\n",
       "      <th>STATION</th>\n",
       "      <th>NAME</th>\n",
       "      <th>PRCP</th>\n",
       "      <th>TMAX</th>\n",
       "      <th>TMIN</th>\n",
       "      <th>target</th>\n",
       "    </tr>\n",
       "    <tr>\n",
       "      <th>DATE</th>\n",
       "      <th></th>\n",
       "      <th></th>\n",
       "      <th></th>\n",
       "      <th></th>\n",
       "      <th></th>\n",
       "      <th></th>\n",
       "    </tr>\n",
       "  </thead>\n",
       "  <tbody>\n",
       "    <tr>\n",
       "      <th>1970-01-01</th>\n",
       "      <td>ASN00066037</td>\n",
       "      <td>SYDNEY AIRPORT AMO, AS</td>\n",
       "      <td>2.3</td>\n",
       "      <td>25.4</td>\n",
       "      <td>18.4</td>\n",
       "      <td>28.1</td>\n",
       "    </tr>\n",
       "    <tr>\n",
       "      <th>1970-01-02</th>\n",
       "      <td>ASN00066037</td>\n",
       "      <td>SYDNEY AIRPORT AMO, AS</td>\n",
       "      <td>4.1</td>\n",
       "      <td>28.1</td>\n",
       "      <td>18.7</td>\n",
       "      <td>24.8</td>\n",
       "    </tr>\n",
       "    <tr>\n",
       "      <th>1970-01-03</th>\n",
       "      <td>ASN00066037</td>\n",
       "      <td>SYDNEY AIRPORT AMO, AS</td>\n",
       "      <td>0.0</td>\n",
       "      <td>24.8</td>\n",
       "      <td>16.6</td>\n",
       "      <td>27.6</td>\n",
       "    </tr>\n",
       "    <tr>\n",
       "      <th>1970-01-04</th>\n",
       "      <td>ASN00066037</td>\n",
       "      <td>SYDNEY AIRPORT AMO, AS</td>\n",
       "      <td>0.0</td>\n",
       "      <td>27.6</td>\n",
       "      <td>16.8</td>\n",
       "      <td>27.3</td>\n",
       "    </tr>\n",
       "    <tr>\n",
       "      <th>1970-01-05</th>\n",
       "      <td>ASN00066037</td>\n",
       "      <td>SYDNEY AIRPORT AMO, AS</td>\n",
       "      <td>0.0</td>\n",
       "      <td>27.3</td>\n",
       "      <td>15.7</td>\n",
       "      <td>22.8</td>\n",
       "    </tr>\n",
       "    <tr>\n",
       "      <th>...</th>\n",
       "      <td>...</td>\n",
       "      <td>...</td>\n",
       "      <td>...</td>\n",
       "      <td>...</td>\n",
       "      <td>...</td>\n",
       "      <td>...</td>\n",
       "    </tr>\n",
       "    <tr>\n",
       "      <th>2023-01-04</th>\n",
       "      <td>ASN00066037</td>\n",
       "      <td>SYDNEY AIRPORT AMO, AS</td>\n",
       "      <td>0.0</td>\n",
       "      <td>27.1</td>\n",
       "      <td>17.9</td>\n",
       "      <td>27.1</td>\n",
       "    </tr>\n",
       "    <tr>\n",
       "      <th>2023-01-05</th>\n",
       "      <td>ASN00066037</td>\n",
       "      <td>SYDNEY AIRPORT AMO, AS</td>\n",
       "      <td>0.0</td>\n",
       "      <td>27.1</td>\n",
       "      <td>17.9</td>\n",
       "      <td>27.1</td>\n",
       "    </tr>\n",
       "    <tr>\n",
       "      <th>2023-01-06</th>\n",
       "      <td>ASN00066037</td>\n",
       "      <td>SYDNEY AIRPORT AMO, AS</td>\n",
       "      <td>0.3</td>\n",
       "      <td>27.1</td>\n",
       "      <td>17.9</td>\n",
       "      <td>27.1</td>\n",
       "    </tr>\n",
       "    <tr>\n",
       "      <th>2023-01-07</th>\n",
       "      <td>ASN00066037</td>\n",
       "      <td>SYDNEY AIRPORT AMO, AS</td>\n",
       "      <td>0.3</td>\n",
       "      <td>27.1</td>\n",
       "      <td>17.9</td>\n",
       "      <td>27.1</td>\n",
       "    </tr>\n",
       "    <tr>\n",
       "      <th>2023-01-08</th>\n",
       "      <td>ASN00066037</td>\n",
       "      <td>SYDNEY AIRPORT AMO, AS</td>\n",
       "      <td>0.0</td>\n",
       "      <td>27.1</td>\n",
       "      <td>17.9</td>\n",
       "      <td>NaN</td>\n",
       "    </tr>\n",
       "  </tbody>\n",
       "</table>\n",
       "<p>19366 rows × 6 columns</p>\n",
       "</div>"
      ],
      "text/plain": [
       "                STATION                    NAME  PRCP  TMAX  TMIN  target\n",
       "DATE                                                                     \n",
       "1970-01-01  ASN00066037  SYDNEY AIRPORT AMO, AS   2.3  25.4  18.4    28.1\n",
       "1970-01-02  ASN00066037  SYDNEY AIRPORT AMO, AS   4.1  28.1  18.7    24.8\n",
       "1970-01-03  ASN00066037  SYDNEY AIRPORT AMO, AS   0.0  24.8  16.6    27.6\n",
       "1970-01-04  ASN00066037  SYDNEY AIRPORT AMO, AS   0.0  27.6  16.8    27.3\n",
       "1970-01-05  ASN00066037  SYDNEY AIRPORT AMO, AS   0.0  27.3  15.7    22.8\n",
       "...                 ...                     ...   ...   ...   ...     ...\n",
       "2023-01-04  ASN00066037  SYDNEY AIRPORT AMO, AS   0.0  27.1  17.9    27.1\n",
       "2023-01-05  ASN00066037  SYDNEY AIRPORT AMO, AS   0.0  27.1  17.9    27.1\n",
       "2023-01-06  ASN00066037  SYDNEY AIRPORT AMO, AS   0.3  27.1  17.9    27.1\n",
       "2023-01-07  ASN00066037  SYDNEY AIRPORT AMO, AS   0.3  27.1  17.9    27.1\n",
       "2023-01-08  ASN00066037  SYDNEY AIRPORT AMO, AS   0.0  27.1  17.9     NaN\n",
       "\n",
       "[19366 rows x 6 columns]"
      ]
     },
     "execution_count": 72,
     "metadata": {},
     "output_type": "execute_result"
    }
   ],
   "source": [
    "weather[\"target\"] = weather.shift(-1)[\"TMAX\"]\n",
    "weather"
   ]
  },
  {
   "cell_type": "code",
   "execution_count": 73,
   "metadata": {},
   "outputs": [
    {
     "data": {
      "text/html": [
       "<div>\n",
       "<style scoped>\n",
       "    .dataframe tbody tr th:only-of-type {\n",
       "        vertical-align: middle;\n",
       "    }\n",
       "\n",
       "    .dataframe tbody tr th {\n",
       "        vertical-align: top;\n",
       "    }\n",
       "\n",
       "    .dataframe thead th {\n",
       "        text-align: right;\n",
       "    }\n",
       "</style>\n",
       "<table border=\"1\" class=\"dataframe\">\n",
       "  <thead>\n",
       "    <tr style=\"text-align: right;\">\n",
       "      <th></th>\n",
       "      <th>STATION</th>\n",
       "      <th>NAME</th>\n",
       "      <th>PRCP</th>\n",
       "      <th>TMAX</th>\n",
       "      <th>TMIN</th>\n",
       "      <th>target</th>\n",
       "    </tr>\n",
       "    <tr>\n",
       "      <th>DATE</th>\n",
       "      <th></th>\n",
       "      <th></th>\n",
       "      <th></th>\n",
       "      <th></th>\n",
       "      <th></th>\n",
       "      <th></th>\n",
       "    </tr>\n",
       "  </thead>\n",
       "  <tbody>\n",
       "    <tr>\n",
       "      <th>1970-01-01</th>\n",
       "      <td>ASN00066037</td>\n",
       "      <td>SYDNEY AIRPORT AMO, AS</td>\n",
       "      <td>2.3</td>\n",
       "      <td>25.4</td>\n",
       "      <td>18.4</td>\n",
       "      <td>28.1</td>\n",
       "    </tr>\n",
       "    <tr>\n",
       "      <th>1970-01-02</th>\n",
       "      <td>ASN00066037</td>\n",
       "      <td>SYDNEY AIRPORT AMO, AS</td>\n",
       "      <td>4.1</td>\n",
       "      <td>28.1</td>\n",
       "      <td>18.7</td>\n",
       "      <td>24.8</td>\n",
       "    </tr>\n",
       "    <tr>\n",
       "      <th>1970-01-03</th>\n",
       "      <td>ASN00066037</td>\n",
       "      <td>SYDNEY AIRPORT AMO, AS</td>\n",
       "      <td>0.0</td>\n",
       "      <td>24.8</td>\n",
       "      <td>16.6</td>\n",
       "      <td>27.6</td>\n",
       "    </tr>\n",
       "    <tr>\n",
       "      <th>1970-01-04</th>\n",
       "      <td>ASN00066037</td>\n",
       "      <td>SYDNEY AIRPORT AMO, AS</td>\n",
       "      <td>0.0</td>\n",
       "      <td>27.6</td>\n",
       "      <td>16.8</td>\n",
       "      <td>27.3</td>\n",
       "    </tr>\n",
       "    <tr>\n",
       "      <th>1970-01-05</th>\n",
       "      <td>ASN00066037</td>\n",
       "      <td>SYDNEY AIRPORT AMO, AS</td>\n",
       "      <td>0.0</td>\n",
       "      <td>27.3</td>\n",
       "      <td>15.7</td>\n",
       "      <td>22.8</td>\n",
       "    </tr>\n",
       "    <tr>\n",
       "      <th>...</th>\n",
       "      <td>...</td>\n",
       "      <td>...</td>\n",
       "      <td>...</td>\n",
       "      <td>...</td>\n",
       "      <td>...</td>\n",
       "      <td>...</td>\n",
       "    </tr>\n",
       "    <tr>\n",
       "      <th>2023-01-04</th>\n",
       "      <td>ASN00066037</td>\n",
       "      <td>SYDNEY AIRPORT AMO, AS</td>\n",
       "      <td>0.0</td>\n",
       "      <td>27.1</td>\n",
       "      <td>17.9</td>\n",
       "      <td>27.1</td>\n",
       "    </tr>\n",
       "    <tr>\n",
       "      <th>2023-01-05</th>\n",
       "      <td>ASN00066037</td>\n",
       "      <td>SYDNEY AIRPORT AMO, AS</td>\n",
       "      <td>0.0</td>\n",
       "      <td>27.1</td>\n",
       "      <td>17.9</td>\n",
       "      <td>27.1</td>\n",
       "    </tr>\n",
       "    <tr>\n",
       "      <th>2023-01-06</th>\n",
       "      <td>ASN00066037</td>\n",
       "      <td>SYDNEY AIRPORT AMO, AS</td>\n",
       "      <td>0.3</td>\n",
       "      <td>27.1</td>\n",
       "      <td>17.9</td>\n",
       "      <td>27.1</td>\n",
       "    </tr>\n",
       "    <tr>\n",
       "      <th>2023-01-07</th>\n",
       "      <td>ASN00066037</td>\n",
       "      <td>SYDNEY AIRPORT AMO, AS</td>\n",
       "      <td>0.3</td>\n",
       "      <td>27.1</td>\n",
       "      <td>17.9</td>\n",
       "      <td>27.1</td>\n",
       "    </tr>\n",
       "    <tr>\n",
       "      <th>2023-01-08</th>\n",
       "      <td>ASN00066037</td>\n",
       "      <td>SYDNEY AIRPORT AMO, AS</td>\n",
       "      <td>0.0</td>\n",
       "      <td>27.1</td>\n",
       "      <td>17.9</td>\n",
       "      <td>27.1</td>\n",
       "    </tr>\n",
       "  </tbody>\n",
       "</table>\n",
       "<p>19366 rows × 6 columns</p>\n",
       "</div>"
      ],
      "text/plain": [
       "                STATION                    NAME  PRCP  TMAX  TMIN  target\n",
       "DATE                                                                     \n",
       "1970-01-01  ASN00066037  SYDNEY AIRPORT AMO, AS   2.3  25.4  18.4    28.1\n",
       "1970-01-02  ASN00066037  SYDNEY AIRPORT AMO, AS   4.1  28.1  18.7    24.8\n",
       "1970-01-03  ASN00066037  SYDNEY AIRPORT AMO, AS   0.0  24.8  16.6    27.6\n",
       "1970-01-04  ASN00066037  SYDNEY AIRPORT AMO, AS   0.0  27.6  16.8    27.3\n",
       "1970-01-05  ASN00066037  SYDNEY AIRPORT AMO, AS   0.0  27.3  15.7    22.8\n",
       "...                 ...                     ...   ...   ...   ...     ...\n",
       "2023-01-04  ASN00066037  SYDNEY AIRPORT AMO, AS   0.0  27.1  17.9    27.1\n",
       "2023-01-05  ASN00066037  SYDNEY AIRPORT AMO, AS   0.0  27.1  17.9    27.1\n",
       "2023-01-06  ASN00066037  SYDNEY AIRPORT AMO, AS   0.3  27.1  17.9    27.1\n",
       "2023-01-07  ASN00066037  SYDNEY AIRPORT AMO, AS   0.3  27.1  17.9    27.1\n",
       "2023-01-08  ASN00066037  SYDNEY AIRPORT AMO, AS   0.0  27.1  17.9    27.1\n",
       "\n",
       "[19366 rows x 6 columns]"
      ]
     },
     "execution_count": 73,
     "metadata": {},
     "output_type": "execute_result"
    }
   ],
   "source": [
    "weather = weather.ffill()\n",
    "weather"
   ]
  },
  {
   "cell_type": "code",
   "execution_count": 74,
   "metadata": {},
   "outputs": [],
   "source": [
    "from sklearn.linear_model import Ridge\n",
    "rr = Ridge(alpha=0.1)"
   ]
  },
  {
   "cell_type": "code",
   "execution_count": 75,
   "metadata": {},
   "outputs": [
    {
     "data": {
      "text/plain": [
       "Index(['PRCP', 'TMAX', 'TMIN'], dtype='object')"
      ]
     },
     "execution_count": 75,
     "metadata": {},
     "output_type": "execute_result"
    }
   ],
   "source": [
    "predictors = weather.columns[~weather.columns.isin([\"target\", \"NAME\", \"STATION\"])]\n",
    "predictors"
   ]
  },
  {
   "attachments": {},
   "cell_type": "markdown",
   "metadata": {},
   "source": [
    "Time series data --> use back testing or time seres cross validation to account for the time series nature of the data"
   ]
  },
  {
   "cell_type": "code",
   "execution_count": 76,
   "metadata": {},
   "outputs": [],
   "source": [
    "def backtest(weather, model, predictors, start=3650, step=90):\n",
    "    all_predictions = []\n",
    "\n",
    "    for i in range(start, weather.shape[0], step):\n",
    "        train = weather.iloc[:i, :]\n",
    "        test = weather.iloc[i:(i+step),:]\n",
    "\n",
    "        model.fit(train[predictors], train[\"target\"])\n",
    "\n",
    "        preds = model.predict(test[predictors])\n",
    "\n",
    "        preds = pd.Series(preds, index=test.index)\n",
    "        combined = pd.concat([test[\"target\"], preds], axis=1)\n",
    "\n",
    "        combined.columns = [\"actual\", \"prediction\"]\n",
    "\n",
    "        combined[\"diff\"] = (combined[\"prediction\"] - combined[\"actual\"]).abs()\n",
    "        all_predictions.append(combined)\n",
    "    return pd.concat(all_predictions) "
   ]
  },
  {
   "cell_type": "code",
   "execution_count": 77,
   "metadata": {},
   "outputs": [
    {
     "data": {
      "text/html": [
       "<div>\n",
       "<style scoped>\n",
       "    .dataframe tbody tr th:only-of-type {\n",
       "        vertical-align: middle;\n",
       "    }\n",
       "\n",
       "    .dataframe tbody tr th {\n",
       "        vertical-align: top;\n",
       "    }\n",
       "\n",
       "    .dataframe thead th {\n",
       "        text-align: right;\n",
       "    }\n",
       "</style>\n",
       "<table border=\"1\" class=\"dataframe\">\n",
       "  <thead>\n",
       "    <tr style=\"text-align: right;\">\n",
       "      <th></th>\n",
       "      <th>actual</th>\n",
       "      <th>prediction</th>\n",
       "      <th>diff</th>\n",
       "    </tr>\n",
       "    <tr>\n",
       "      <th>DATE</th>\n",
       "      <th></th>\n",
       "      <th></th>\n",
       "      <th></th>\n",
       "    </tr>\n",
       "  </thead>\n",
       "  <tbody>\n",
       "    <tr>\n",
       "      <th>1979-12-30</th>\n",
       "      <td>27.8</td>\n",
       "      <td>26.813427</td>\n",
       "      <td>0.986573</td>\n",
       "    </tr>\n",
       "    <tr>\n",
       "      <th>1979-12-31</th>\n",
       "      <td>25.1</td>\n",
       "      <td>27.024292</td>\n",
       "      <td>1.924292</td>\n",
       "    </tr>\n",
       "    <tr>\n",
       "      <th>1980-01-01</th>\n",
       "      <td>20.5</td>\n",
       "      <td>26.045843</td>\n",
       "      <td>5.545843</td>\n",
       "    </tr>\n",
       "    <tr>\n",
       "      <th>1980-01-02</th>\n",
       "      <td>25.1</td>\n",
       "      <td>22.779061</td>\n",
       "      <td>2.320939</td>\n",
       "    </tr>\n",
       "    <tr>\n",
       "      <th>1980-01-03</th>\n",
       "      <td>28.5</td>\n",
       "      <td>25.018782</td>\n",
       "      <td>3.481218</td>\n",
       "    </tr>\n",
       "    <tr>\n",
       "      <th>...</th>\n",
       "      <td>...</td>\n",
       "      <td>...</td>\n",
       "      <td>...</td>\n",
       "    </tr>\n",
       "    <tr>\n",
       "      <th>2023-01-04</th>\n",
       "      <td>27.1</td>\n",
       "      <td>25.984081</td>\n",
       "      <td>1.115919</td>\n",
       "    </tr>\n",
       "    <tr>\n",
       "      <th>2023-01-05</th>\n",
       "      <td>27.1</td>\n",
       "      <td>25.984081</td>\n",
       "      <td>1.115919</td>\n",
       "    </tr>\n",
       "    <tr>\n",
       "      <th>2023-01-06</th>\n",
       "      <td>27.1</td>\n",
       "      <td>25.980294</td>\n",
       "      <td>1.119706</td>\n",
       "    </tr>\n",
       "    <tr>\n",
       "      <th>2023-01-07</th>\n",
       "      <td>27.1</td>\n",
       "      <td>25.980294</td>\n",
       "      <td>1.119706</td>\n",
       "    </tr>\n",
       "    <tr>\n",
       "      <th>2023-01-08</th>\n",
       "      <td>27.1</td>\n",
       "      <td>25.984081</td>\n",
       "      <td>1.115919</td>\n",
       "    </tr>\n",
       "  </tbody>\n",
       "</table>\n",
       "<p>15716 rows × 3 columns</p>\n",
       "</div>"
      ],
      "text/plain": [
       "            actual  prediction      diff\n",
       "DATE                                    \n",
       "1979-12-30    27.8   26.813427  0.986573\n",
       "1979-12-31    25.1   27.024292  1.924292\n",
       "1980-01-01    20.5   26.045843  5.545843\n",
       "1980-01-02    25.1   22.779061  2.320939\n",
       "1980-01-03    28.5   25.018782  3.481218\n",
       "...            ...         ...       ...\n",
       "2023-01-04    27.1   25.984081  1.115919\n",
       "2023-01-05    27.1   25.984081  1.115919\n",
       "2023-01-06    27.1   25.980294  1.119706\n",
       "2023-01-07    27.1   25.980294  1.119706\n",
       "2023-01-08    27.1   25.984081  1.115919\n",
       "\n",
       "[15716 rows x 3 columns]"
      ]
     },
     "execution_count": 77,
     "metadata": {},
     "output_type": "execute_result"
    }
   ],
   "source": [
    "predictions = backtest(weather, rr, predictors)\n",
    "predictions"
   ]
  },
  {
   "attachments": {},
   "cell_type": "markdown",
   "metadata": {},
   "source": [
    "using mean absolute error to calculate the error of our model"
   ]
  },
  {
   "cell_type": "code",
   "execution_count": 78,
   "metadata": {},
   "outputs": [
    {
     "data": {
      "text/plain": [
       "2.581062765979283"
      ]
     },
     "execution_count": 78,
     "metadata": {},
     "output_type": "execute_result"
    }
   ],
   "source": [
    "from sklearn.metrics import mean_absolute_error\n",
    "mean_absolute_error(predictions[\"actual\"], predictions[\"prediction\"])"
   ]
  },
  {
   "attachments": {},
   "cell_type": "markdown",
   "metadata": {},
   "source": [
    "We can see that our model is currently 2.5 degrees off on average"
   ]
  },
  {
   "cell_type": "code",
   "execution_count": null,
   "metadata": {},
   "outputs": [],
   "source": []
  }
 ],
 "metadata": {
  "kernelspec": {
   "display_name": "weatherenv",
   "language": "python",
   "name": "python3"
  },
  "language_info": {
   "codemirror_mode": {
    "name": "ipython",
    "version": 3
   },
   "file_extension": ".py",
   "mimetype": "text/x-python",
   "name": "python",
   "nbconvert_exporter": "python",
   "pygments_lexer": "ipython3",
   "version": "3.10.9"
  },
  "orig_nbformat": 4,
  "vscode": {
   "interpreter": {
    "hash": "b4d17591ae202fd84b6ae5c1e2308640161833cd85b23bc2ceada93a900d2c47"
   }
  }
 },
 "nbformat": 4,
 "nbformat_minor": 2
}
