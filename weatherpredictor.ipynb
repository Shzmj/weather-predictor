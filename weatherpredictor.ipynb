{
 "cells": [
  {
   "attachments": {},
   "cell_type": "markdown",
   "metadata": {},
   "source": [
    "# Machine learning Weather prediction model"
   ]
  },
  {
   "cell_type": "code",
   "execution_count": 35,
   "metadata": {},
   "outputs": [],
   "source": [
    "import pandas as pd\n",
    "import matplotlib as mlt\n",
    "weather = pd.read_csv(\"syd_weather.csv\", index_col=\"DATE\")"
   ]
  },
  {
   "cell_type": "code",
   "execution_count": 36,
   "metadata": {},
   "outputs": [
    {
     "data": {
      "text/html": [
       "<div>\n",
       "<style scoped>\n",
       "    .dataframe tbody tr th:only-of-type {\n",
       "        vertical-align: middle;\n",
       "    }\n",
       "\n",
       "    .dataframe tbody tr th {\n",
       "        vertical-align: top;\n",
       "    }\n",
       "\n",
       "    .dataframe thead th {\n",
       "        text-align: right;\n",
       "    }\n",
       "</style>\n",
       "<table border=\"1\" class=\"dataframe\">\n",
       "  <thead>\n",
       "    <tr style=\"text-align: right;\">\n",
       "      <th></th>\n",
       "      <th>STATION</th>\n",
       "      <th>NAME</th>\n",
       "      <th>MDTX</th>\n",
       "      <th>PRCP</th>\n",
       "      <th>TAVG</th>\n",
       "      <th>TMAX</th>\n",
       "      <th>TMIN</th>\n",
       "    </tr>\n",
       "    <tr>\n",
       "      <th>DATE</th>\n",
       "      <th></th>\n",
       "      <th></th>\n",
       "      <th></th>\n",
       "      <th></th>\n",
       "      <th></th>\n",
       "      <th></th>\n",
       "      <th></th>\n",
       "    </tr>\n",
       "  </thead>\n",
       "  <tbody>\n",
       "    <tr>\n",
       "      <th>1980-01-01</th>\n",
       "      <td>ASN00066037</td>\n",
       "      <td>SYDNEY AIRPORT AMO, AS</td>\n",
       "      <td>NaN</td>\n",
       "      <td>0.00</td>\n",
       "      <td>68.0</td>\n",
       "      <td>77.0</td>\n",
       "      <td>70.0</td>\n",
       "    </tr>\n",
       "    <tr>\n",
       "      <th>1980-01-02</th>\n",
       "      <td>ASN00066037</td>\n",
       "      <td>SYDNEY AIRPORT AMO, AS</td>\n",
       "      <td>NaN</td>\n",
       "      <td>0.71</td>\n",
       "      <td>67.0</td>\n",
       "      <td>69.0</td>\n",
       "      <td>64.0</td>\n",
       "    </tr>\n",
       "    <tr>\n",
       "      <th>1980-01-03</th>\n",
       "      <td>ASN00066037</td>\n",
       "      <td>SYDNEY AIRPORT AMO, AS</td>\n",
       "      <td>NaN</td>\n",
       "      <td>1.36</td>\n",
       "      <td>71.0</td>\n",
       "      <td>77.0</td>\n",
       "      <td>65.0</td>\n",
       "    </tr>\n",
       "    <tr>\n",
       "      <th>1980-01-04</th>\n",
       "      <td>ASN00066037</td>\n",
       "      <td>SYDNEY AIRPORT AMO, AS</td>\n",
       "      <td>NaN</td>\n",
       "      <td>0.53</td>\n",
       "      <td>71.0</td>\n",
       "      <td>83.0</td>\n",
       "      <td>69.0</td>\n",
       "    </tr>\n",
       "    <tr>\n",
       "      <th>1980-01-05</th>\n",
       "      <td>ASN00066037</td>\n",
       "      <td>SYDNEY AIRPORT AMO, AS</td>\n",
       "      <td>NaN</td>\n",
       "      <td>0.00</td>\n",
       "      <td>71.0</td>\n",
       "      <td>76.0</td>\n",
       "      <td>65.0</td>\n",
       "    </tr>\n",
       "    <tr>\n",
       "      <th>...</th>\n",
       "      <td>...</td>\n",
       "      <td>...</td>\n",
       "      <td>...</td>\n",
       "      <td>...</td>\n",
       "      <td>...</td>\n",
       "      <td>...</td>\n",
       "      <td>...</td>\n",
       "    </tr>\n",
       "    <tr>\n",
       "      <th>2023-01-04</th>\n",
       "      <td>ASN00066037</td>\n",
       "      <td>SYDNEY AIRPORT AMO, AS</td>\n",
       "      <td>NaN</td>\n",
       "      <td>0.00</td>\n",
       "      <td>NaN</td>\n",
       "      <td>NaN</td>\n",
       "      <td>NaN</td>\n",
       "    </tr>\n",
       "    <tr>\n",
       "      <th>2023-01-05</th>\n",
       "      <td>ASN00066037</td>\n",
       "      <td>SYDNEY AIRPORT AMO, AS</td>\n",
       "      <td>NaN</td>\n",
       "      <td>0.00</td>\n",
       "      <td>NaN</td>\n",
       "      <td>NaN</td>\n",
       "      <td>NaN</td>\n",
       "    </tr>\n",
       "    <tr>\n",
       "      <th>2023-01-06</th>\n",
       "      <td>ASN00066037</td>\n",
       "      <td>SYDNEY AIRPORT AMO, AS</td>\n",
       "      <td>NaN</td>\n",
       "      <td>0.01</td>\n",
       "      <td>NaN</td>\n",
       "      <td>NaN</td>\n",
       "      <td>NaN</td>\n",
       "    </tr>\n",
       "    <tr>\n",
       "      <th>2023-01-07</th>\n",
       "      <td>ASN00066037</td>\n",
       "      <td>SYDNEY AIRPORT AMO, AS</td>\n",
       "      <td>NaN</td>\n",
       "      <td>0.01</td>\n",
       "      <td>NaN</td>\n",
       "      <td>NaN</td>\n",
       "      <td>NaN</td>\n",
       "    </tr>\n",
       "    <tr>\n",
       "      <th>2023-01-08</th>\n",
       "      <td>ASN00066037</td>\n",
       "      <td>SYDNEY AIRPORT AMO, AS</td>\n",
       "      <td>NaN</td>\n",
       "      <td>0.00</td>\n",
       "      <td>NaN</td>\n",
       "      <td>NaN</td>\n",
       "      <td>NaN</td>\n",
       "    </tr>\n",
       "  </tbody>\n",
       "</table>\n",
       "<p>15714 rows × 7 columns</p>\n",
       "</div>"
      ],
      "text/plain": [
       "                STATION                    NAME  MDTX  PRCP  TAVG  TMAX  TMIN\n",
       "DATE                                                                         \n",
       "1980-01-01  ASN00066037  SYDNEY AIRPORT AMO, AS   NaN  0.00  68.0  77.0  70.0\n",
       "1980-01-02  ASN00066037  SYDNEY AIRPORT AMO, AS   NaN  0.71  67.0  69.0  64.0\n",
       "1980-01-03  ASN00066037  SYDNEY AIRPORT AMO, AS   NaN  1.36  71.0  77.0  65.0\n",
       "1980-01-04  ASN00066037  SYDNEY AIRPORT AMO, AS   NaN  0.53  71.0  83.0  69.0\n",
       "1980-01-05  ASN00066037  SYDNEY AIRPORT AMO, AS   NaN  0.00  71.0  76.0  65.0\n",
       "...                 ...                     ...   ...   ...   ...   ...   ...\n",
       "2023-01-04  ASN00066037  SYDNEY AIRPORT AMO, AS   NaN  0.00   NaN   NaN   NaN\n",
       "2023-01-05  ASN00066037  SYDNEY AIRPORT AMO, AS   NaN  0.00   NaN   NaN   NaN\n",
       "2023-01-06  ASN00066037  SYDNEY AIRPORT AMO, AS   NaN  0.01   NaN   NaN   NaN\n",
       "2023-01-07  ASN00066037  SYDNEY AIRPORT AMO, AS   NaN  0.01   NaN   NaN   NaN\n",
       "2023-01-08  ASN00066037  SYDNEY AIRPORT AMO, AS   NaN  0.00   NaN   NaN   NaN\n",
       "\n",
       "[15714 rows x 7 columns]"
      ]
     },
     "execution_count": 36,
     "metadata": {},
     "output_type": "execute_result"
    }
   ],
   "source": [
    "weather"
   ]
  },
  {
   "attachments": {},
   "cell_type": "markdown",
   "metadata": {},
   "source": [
    "# checking which columns contain the most missing values"
   ]
  },
  {
   "cell_type": "code",
   "execution_count": 37,
   "metadata": {},
   "outputs": [
    {
     "data": {
      "text/plain": [
       "STATION    0.000000\n",
       "NAME       0.000000\n",
       "MDTX       0.999873\n",
       "PRCP       0.000509\n",
       "TAVG       0.001909\n",
       "TMAX       0.000700\n",
       "TMIN       0.001209\n",
       "dtype: float64"
      ]
     },
     "execution_count": 37,
     "metadata": {},
     "output_type": "execute_result"
    }
   ],
   "source": [
    "null_percentage = weather.apply(pd.isnull).sum()/weather.shape[0]\n",
    "null_percentage"
   ]
  },
  {
   "attachments": {},
   "cell_type": "markdown",
   "metadata": {},
   "source": [
    "checking which columns contain a good amount of data\n"
   ]
  },
  {
   "cell_type": "code",
   "execution_count": 38,
   "metadata": {},
   "outputs": [
    {
     "data": {
      "text/plain": [
       "Index(['STATION', 'NAME', 'PRCP', 'TAVG', 'TMAX', 'TMIN'], dtype='object')"
      ]
     },
     "execution_count": 38,
     "metadata": {},
     "output_type": "execute_result"
    }
   ],
   "source": [
    "valid_columns = weather.columns[null_percentage < 0.05]\n",
    "valid_columns"
   ]
  },
  {
   "cell_type": "code",
   "execution_count": 39,
   "metadata": {},
   "outputs": [],
   "source": [
    "weather = weather[valid_columns].copy()"
   ]
  },
  {
   "attachments": {},
   "cell_type": "markdown",
   "metadata": {},
   "source": [
    "using forward fill to fill in the missing values (for example data seems to be missing for 2023)"
   ]
  },
  {
   "cell_type": "code",
   "execution_count": 40,
   "metadata": {},
   "outputs": [
    {
     "data": {
      "text/plain": [
       "STATION    0.0\n",
       "NAME       0.0\n",
       "PRCP       0.0\n",
       "TAVG       0.0\n",
       "TMAX       0.0\n",
       "TMIN       0.0\n",
       "dtype: float64"
      ]
     },
     "execution_count": 40,
     "metadata": {},
     "output_type": "execute_result"
    }
   ],
   "source": [
    "weather = weather.ffill()\n",
    "null_percentage = weather.apply(pd.isnull).sum()/weather.shape[0]\n",
    "null_percentage"
   ]
  },
  {
   "attachments": {},
   "cell_type": "markdown",
   "metadata": {},
   "source": [
    "making sure that columns contain the correct data types"
   ]
  },
  {
   "cell_type": "code",
   "execution_count": 41,
   "metadata": {},
   "outputs": [
    {
     "data": {
      "text/plain": [
       "STATION     object\n",
       "NAME        object\n",
       "PRCP       float64\n",
       "TAVG       float64\n",
       "TMAX       float64\n",
       "TMIN       float64\n",
       "dtype: object"
      ]
     },
     "execution_count": 41,
     "metadata": {},
     "output_type": "execute_result"
    }
   ],
   "source": [
    "weather.dtypes"
   ]
  },
  {
   "cell_type": "code",
   "execution_count": 42,
   "metadata": {},
   "outputs": [
    {
     "data": {
      "text/plain": [
       "Index(['1980-01-01', '1980-01-02', '1980-01-03', '1980-01-04', '1980-01-05',\n",
       "       '1980-01-06', '1980-01-07', '1980-01-08', '1980-01-09', '1980-01-10',\n",
       "       ...\n",
       "       '2022-12-30', '2022-12-31', '2023-01-01', '2023-01-02', '2023-01-03',\n",
       "       '2023-01-04', '2023-01-05', '2023-01-06', '2023-01-07', '2023-01-08'],\n",
       "      dtype='object', name='DATE', length=15714)"
      ]
     },
     "execution_count": 42,
     "metadata": {},
     "output_type": "execute_result"
    }
   ],
   "source": [
    "weather.index"
   ]
  },
  {
   "attachments": {},
   "cell_type": "markdown",
   "metadata": {},
   "source": [
    "need to change the date column to a datetime object"
   ]
  },
  {
   "cell_type": "code",
   "execution_count": 43,
   "metadata": {},
   "outputs": [
    {
     "data": {
      "text/plain": [
       "DatetimeIndex(['1980-01-01', '1980-01-02', '1980-01-03', '1980-01-04',\n",
       "               '1980-01-05', '1980-01-06', '1980-01-07', '1980-01-08',\n",
       "               '1980-01-09', '1980-01-10',\n",
       "               ...\n",
       "               '2022-12-30', '2022-12-31', '2023-01-01', '2023-01-02',\n",
       "               '2023-01-03', '2023-01-04', '2023-01-05', '2023-01-06',\n",
       "               '2023-01-07', '2023-01-08'],\n",
       "              dtype='datetime64[ns]', name='DATE', length=15714, freq=None)"
      ]
     },
     "execution_count": 43,
     "metadata": {},
     "output_type": "execute_result"
    }
   ],
   "source": [
    "weather.index = pd.to_datetime(weather.index)\n",
    "weather.index"
   ]
  },
  {
   "cell_type": "code",
   "execution_count": 44,
   "metadata": {},
   "outputs": [
    {
     "data": {
      "text/plain": [
       "Int64Index([1980, 1980, 1980, 1980, 1980, 1980, 1980, 1980, 1980, 1980,\n",
       "            ...\n",
       "            2022, 2022, 2023, 2023, 2023, 2023, 2023, 2023, 2023, 2023],\n",
       "           dtype='int64', name='DATE', length=15714)"
      ]
     },
     "execution_count": 44,
     "metadata": {},
     "output_type": "execute_result"
    }
   ],
   "source": [
    "weather.index.year"
   ]
  },
  {
   "attachments": {},
   "cell_type": "markdown",
   "metadata": {},
   "source": [
    "making sure we dont have gaps in our data (i.e. missing years)"
   ]
  },
  {
   "cell_type": "code",
   "execution_count": 45,
   "metadata": {},
   "outputs": [
    {
     "data": {
      "text/plain": [
       "1980    366\n",
       "1981    365\n",
       "1982    365\n",
       "1983    365\n",
       "1984    366\n",
       "1985    365\n",
       "1986    365\n",
       "1987    365\n",
       "1988    366\n",
       "1989    365\n",
       "1990    365\n",
       "1991    365\n",
       "1992    366\n",
       "1993    365\n",
       "1994    365\n",
       "1995    365\n",
       "1996    366\n",
       "1997    365\n",
       "1998    365\n",
       "1999    365\n",
       "2000    366\n",
       "2001    365\n",
       "2002    365\n",
       "2003    365\n",
       "2004    366\n",
       "2005    365\n",
       "2006    365\n",
       "2007    365\n",
       "2008    366\n",
       "2009    365\n",
       "2010    365\n",
       "2011    365\n",
       "2012    366\n",
       "2013    365\n",
       "2014    365\n",
       "2015    365\n",
       "2016    366\n",
       "2017    365\n",
       "2018    365\n",
       "2019    365\n",
       "2020    366\n",
       "2021    365\n",
       "2022    365\n",
       "2023      8\n",
       "Name: DATE, dtype: int64"
      ]
     },
     "execution_count": 45,
     "metadata": {},
     "output_type": "execute_result"
    }
   ],
   "source": [
    "weather.index.year.value_counts().sort_index()"
   ]
  },
  {
   "cell_type": "code",
   "execution_count": 46,
   "metadata": {},
   "outputs": [
    {
     "data": {
      "text/plain": [
       "<AxesSubplot: xlabel='DATE'>"
      ]
     },
     "execution_count": 46,
     "metadata": {},
     "output_type": "execute_result"
    },
    {
     "data": {
      "image/png": "[encoded data removed]",
      "text/plain": [
       "<Figure size 640x480 with 1 Axes>"
      ]
     },
     "metadata": {},
     "output_type": "display_data"
    }
   ],
   "source": [
    "weather[\"TMAX\"].plot()"
   ]
  },
  {
   "cell_type": "code",
   "execution_count": 47,
   "metadata": {},
   "outputs": [
    {
     "data": {
      "text/plain": [
       "<AxesSubplot: xlabel='DATE'>"
      ]
     },
     "execution_count": 47,
     "metadata": {},
     "output_type": "execute_result"
    },
    {
     "data": {
      "image/png": "[encoded data removed]",
      "text/plain": [
       "<Figure size 640x480 with 1 Axes>"
      ]
     },
     "metadata": {},
     "output_type": "display_data"
    }
   ],
   "source": [
    "weather[\"PRCP\"].plot()"
   ]
  },
  {
   "cell_type": "code",
   "execution_count": 48,
   "metadata": {},
   "outputs": [
    {
     "data": {
      "text/html": [
       "<div>\n",
       "<style scoped>\n",
       "    .dataframe tbody tr th:only-of-type {\n",
       "        vertical-align: middle;\n",
       "    }\n",
       "\n",
       "    .dataframe tbody tr th {\n",
       "        vertical-align: top;\n",
       "    }\n",
       "\n",
       "    .dataframe thead th {\n",
       "        text-align: right;\n",
       "    }\n",
       "</style>\n",
       "<table border=\"1\" class=\"dataframe\">\n",
       "  <thead>\n",
       "    <tr style=\"text-align: right;\">\n",
       "      <th></th>\n",
       "      <th>STATION</th>\n",
       "      <th>NAME</th>\n",
       "      <th>PRCP</th>\n",
       "      <th>TAVG</th>\n",
       "      <th>TMAX</th>\n",
       "      <th>TMIN</th>\n",
       "    </tr>\n",
       "    <tr>\n",
       "      <th>DATE</th>\n",
       "      <th></th>\n",
       "      <th></th>\n",
       "      <th></th>\n",
       "      <th></th>\n",
       "      <th></th>\n",
       "      <th></th>\n",
       "    </tr>\n",
       "  </thead>\n",
       "  <tbody>\n",
       "    <tr>\n",
       "      <th>1980-01-01</th>\n",
       "      <td>ASN00066037</td>\n",
       "      <td>SYDNEY AIRPORT AMO, AS</td>\n",
       "      <td>0.00</td>\n",
       "      <td>68.0</td>\n",
       "      <td>77.0</td>\n",
       "      <td>70.0</td>\n",
       "    </tr>\n",
       "    <tr>\n",
       "      <th>1980-01-02</th>\n",
       "      <td>ASN00066037</td>\n",
       "      <td>SYDNEY AIRPORT AMO, AS</td>\n",
       "      <td>0.71</td>\n",
       "      <td>67.0</td>\n",
       "      <td>69.0</td>\n",
       "      <td>64.0</td>\n",
       "    </tr>\n",
       "    <tr>\n",
       "      <th>1980-01-03</th>\n",
       "      <td>ASN00066037</td>\n",
       "      <td>SYDNEY AIRPORT AMO, AS</td>\n",
       "      <td>1.36</td>\n",
       "      <td>71.0</td>\n",
       "      <td>77.0</td>\n",
       "      <td>65.0</td>\n",
       "    </tr>\n",
       "    <tr>\n",
       "      <th>1980-01-04</th>\n",
       "      <td>ASN00066037</td>\n",
       "      <td>SYDNEY AIRPORT AMO, AS</td>\n",
       "      <td>0.53</td>\n",
       "      <td>71.0</td>\n",
       "      <td>83.0</td>\n",
       "      <td>69.0</td>\n",
       "    </tr>\n",
       "    <tr>\n",
       "      <th>1980-01-05</th>\n",
       "      <td>ASN00066037</td>\n",
       "      <td>SYDNEY AIRPORT AMO, AS</td>\n",
       "      <td>0.00</td>\n",
       "      <td>71.0</td>\n",
       "      <td>76.0</td>\n",
       "      <td>65.0</td>\n",
       "    </tr>\n",
       "    <tr>\n",
       "      <th>...</th>\n",
       "      <td>...</td>\n",
       "      <td>...</td>\n",
       "      <td>...</td>\n",
       "      <td>...</td>\n",
       "      <td>...</td>\n",
       "      <td>...</td>\n",
       "    </tr>\n",
       "    <tr>\n",
       "      <th>2023-01-04</th>\n",
       "      <td>ASN00066037</td>\n",
       "      <td>SYDNEY AIRPORT AMO, AS</td>\n",
       "      <td>0.00</td>\n",
       "      <td>73.0</td>\n",
       "      <td>81.0</td>\n",
       "      <td>64.0</td>\n",
       "    </tr>\n",
       "    <tr>\n",
       "      <th>2023-01-05</th>\n",
       "      <td>ASN00066037</td>\n",
       "      <td>SYDNEY AIRPORT AMO, AS</td>\n",
       "      <td>0.00</td>\n",
       "      <td>73.0</td>\n",
       "      <td>81.0</td>\n",
       "      <td>64.0</td>\n",
       "    </tr>\n",
       "    <tr>\n",
       "      <th>2023-01-06</th>\n",
       "      <td>ASN00066037</td>\n",
       "      <td>SYDNEY AIRPORT AMO, AS</td>\n",
       "      <td>0.01</td>\n",
       "      <td>73.0</td>\n",
       "      <td>81.0</td>\n",
       "      <td>64.0</td>\n",
       "    </tr>\n",
       "    <tr>\n",
       "      <th>2023-01-07</th>\n",
       "      <td>ASN00066037</td>\n",
       "      <td>SYDNEY AIRPORT AMO, AS</td>\n",
       "      <td>0.01</td>\n",
       "      <td>73.0</td>\n",
       "      <td>81.0</td>\n",
       "      <td>64.0</td>\n",
       "    </tr>\n",
       "    <tr>\n",
       "      <th>2023-01-08</th>\n",
       "      <td>ASN00066037</td>\n",
       "      <td>SYDNEY AIRPORT AMO, AS</td>\n",
       "      <td>0.00</td>\n",
       "      <td>73.0</td>\n",
       "      <td>81.0</td>\n",
       "      <td>64.0</td>\n",
       "    </tr>\n",
       "  </tbody>\n",
       "</table>\n",
       "<p>15714 rows × 6 columns</p>\n",
       "</div>"
      ],
      "text/plain": [
       "                STATION                    NAME  PRCP  TAVG  TMAX  TMIN\n",
       "DATE                                                                   \n",
       "1980-01-01  ASN00066037  SYDNEY AIRPORT AMO, AS  0.00  68.0  77.0  70.0\n",
       "1980-01-02  ASN00066037  SYDNEY AIRPORT AMO, AS  0.71  67.0  69.0  64.0\n",
       "1980-01-03  ASN00066037  SYDNEY AIRPORT AMO, AS  1.36  71.0  77.0  65.0\n",
       "1980-01-04  ASN00066037  SYDNEY AIRPORT AMO, AS  0.53  71.0  83.0  69.0\n",
       "1980-01-05  ASN00066037  SYDNEY AIRPORT AMO, AS  0.00  71.0  76.0  65.0\n",
       "...                 ...                     ...   ...   ...   ...   ...\n",
       "2023-01-04  ASN00066037  SYDNEY AIRPORT AMO, AS  0.00  73.0  81.0  64.0\n",
       "2023-01-05  ASN00066037  SYDNEY AIRPORT AMO, AS  0.00  73.0  81.0  64.0\n",
       "2023-01-06  ASN00066037  SYDNEY AIRPORT AMO, AS  0.01  73.0  81.0  64.0\n",
       "2023-01-07  ASN00066037  SYDNEY AIRPORT AMO, AS  0.01  73.0  81.0  64.0\n",
       "2023-01-08  ASN00066037  SYDNEY AIRPORT AMO, AS  0.00  73.0  81.0  64.0\n",
       "\n",
       "[15714 rows x 6 columns]"
      ]
     },
     "execution_count": 48,
     "metadata": {},
     "output_type": "execute_result"
    }
   ],
   "source": [
    "weather"
   ]
  },
  {
   "attachments": {},
   "cell_type": "markdown",
   "metadata": {},
   "source": [
    "to be able to predict into the future we need to shift all the values back by one day so that we can add a new column for our target prediction"
   ]
  },
  {
   "cell_type": "code",
   "execution_count": 49,
   "metadata": {},
   "outputs": [
    {
     "data": {
      "text/html": [
       "<div>\n",
       "<style scoped>\n",
       "    .dataframe tbody tr th:only-of-type {\n",
       "        vertical-align: middle;\n",
       "    }\n",
       "\n",
       "    .dataframe tbody tr th {\n",
       "        vertical-align: top;\n",
       "    }\n",
       "\n",
       "    .dataframe thead th {\n",
       "        text-align: right;\n",
       "    }\n",
       "</style>\n",
       "<table border=\"1\" class=\"dataframe\">\n",
       "  <thead>\n",
       "    <tr style=\"text-align: right;\">\n",
       "      <th></th>\n",
       "      <th>STATION</th>\n",
       "      <th>NAME</th>\n",
       "      <th>PRCP</th>\n",
       "      <th>TAVG</th>\n",
       "      <th>TMAX</th>\n",
       "      <th>TMIN</th>\n",
       "      <th>target</th>\n",
       "    </tr>\n",
       "    <tr>\n",
       "      <th>DATE</th>\n",
       "      <th></th>\n",
       "      <th></th>\n",
       "      <th></th>\n",
       "      <th></th>\n",
       "      <th></th>\n",
       "      <th></th>\n",
       "      <th></th>\n",
       "    </tr>\n",
       "  </thead>\n",
       "  <tbody>\n",
       "    <tr>\n",
       "      <th>1980-01-01</th>\n",
       "      <td>ASN00066037</td>\n",
       "      <td>SYDNEY AIRPORT AMO, AS</td>\n",
       "      <td>0.00</td>\n",
       "      <td>68.0</td>\n",
       "      <td>77.0</td>\n",
       "      <td>70.0</td>\n",
       "      <td>69.0</td>\n",
       "    </tr>\n",
       "    <tr>\n",
       "      <th>1980-01-02</th>\n",
       "      <td>ASN00066037</td>\n",
       "      <td>SYDNEY AIRPORT AMO, AS</td>\n",
       "      <td>0.71</td>\n",
       "      <td>67.0</td>\n",
       "      <td>69.0</td>\n",
       "      <td>64.0</td>\n",
       "      <td>77.0</td>\n",
       "    </tr>\n",
       "    <tr>\n",
       "      <th>1980-01-03</th>\n",
       "      <td>ASN00066037</td>\n",
       "      <td>SYDNEY AIRPORT AMO, AS</td>\n",
       "      <td>1.36</td>\n",
       "      <td>71.0</td>\n",
       "      <td>77.0</td>\n",
       "      <td>65.0</td>\n",
       "      <td>83.0</td>\n",
       "    </tr>\n",
       "    <tr>\n",
       "      <th>1980-01-04</th>\n",
       "      <td>ASN00066037</td>\n",
       "      <td>SYDNEY AIRPORT AMO, AS</td>\n",
       "      <td>0.53</td>\n",
       "      <td>71.0</td>\n",
       "      <td>83.0</td>\n",
       "      <td>69.0</td>\n",
       "      <td>76.0</td>\n",
       "    </tr>\n",
       "    <tr>\n",
       "      <th>1980-01-05</th>\n",
       "      <td>ASN00066037</td>\n",
       "      <td>SYDNEY AIRPORT AMO, AS</td>\n",
       "      <td>0.00</td>\n",
       "      <td>71.0</td>\n",
       "      <td>76.0</td>\n",
       "      <td>65.0</td>\n",
       "      <td>78.0</td>\n",
       "    </tr>\n",
       "    <tr>\n",
       "      <th>...</th>\n",
       "      <td>...</td>\n",
       "      <td>...</td>\n",
       "      <td>...</td>\n",
       "      <td>...</td>\n",
       "      <td>...</td>\n",
       "      <td>...</td>\n",
       "      <td>...</td>\n",
       "    </tr>\n",
       "    <tr>\n",
       "      <th>2023-01-04</th>\n",
       "      <td>ASN00066037</td>\n",
       "      <td>SYDNEY AIRPORT AMO, AS</td>\n",
       "      <td>0.00</td>\n",
       "      <td>73.0</td>\n",
       "      <td>81.0</td>\n",
       "      <td>64.0</td>\n",
       "      <td>81.0</td>\n",
       "    </tr>\n",
       "    <tr>\n",
       "      <th>2023-01-05</th>\n",
       "      <td>ASN00066037</td>\n",
       "      <td>SYDNEY AIRPORT AMO, AS</td>\n",
       "      <td>0.00</td>\n",
       "      <td>73.0</td>\n",
       "      <td>81.0</td>\n",
       "      <td>64.0</td>\n",
       "      <td>81.0</td>\n",
       "    </tr>\n",
       "    <tr>\n",
       "      <th>2023-01-06</th>\n",
       "      <td>ASN00066037</td>\n",
       "      <td>SYDNEY AIRPORT AMO, AS</td>\n",
       "      <td>0.01</td>\n",
       "      <td>73.0</td>\n",
       "      <td>81.0</td>\n",
       "      <td>64.0</td>\n",
       "      <td>81.0</td>\n",
       "    </tr>\n",
       "    <tr>\n",
       "      <th>2023-01-07</th>\n",
       "      <td>ASN00066037</td>\n",
       "      <td>SYDNEY AIRPORT AMO, AS</td>\n",
       "      <td>0.01</td>\n",
       "      <td>73.0</td>\n",
       "      <td>81.0</td>\n",
       "      <td>64.0</td>\n",
       "      <td>81.0</td>\n",
       "    </tr>\n",
       "    <tr>\n",
       "      <th>2023-01-08</th>\n",
       "      <td>ASN00066037</td>\n",
       "      <td>SYDNEY AIRPORT AMO, AS</td>\n",
       "      <td>0.00</td>\n",
       "      <td>73.0</td>\n",
       "      <td>81.0</td>\n",
       "      <td>64.0</td>\n",
       "      <td>NaN</td>\n",
       "    </tr>\n",
       "  </tbody>\n",
       "</table>\n",
       "<p>15714 rows × 7 columns</p>\n",
       "</div>"
      ],
      "text/plain": [
       "                STATION                    NAME  PRCP  TAVG  TMAX  TMIN  \\\n",
       "DATE                                                                      \n",
       "1980-01-01  ASN00066037  SYDNEY AIRPORT AMO, AS  0.00  68.0  77.0  70.0   \n",
       "1980-01-02  ASN00066037  SYDNEY AIRPORT AMO, AS  0.71  67.0  69.0  64.0   \n",
       "1980-01-03  ASN00066037  SYDNEY AIRPORT AMO, AS  1.36  71.0  77.0  65.0   \n",
       "1980-01-04  ASN00066037  SYDNEY AIRPORT AMO, AS  0.53  71.0  83.0  69.0   \n",
       "1980-01-05  ASN00066037  SYDNEY AIRPORT AMO, AS  0.00  71.0  76.0  65.0   \n",
       "...                 ...                     ...   ...   ...   ...   ...   \n",
       "2023-01-04  ASN00066037  SYDNEY AIRPORT AMO, AS  0.00  73.0  81.0  64.0   \n",
       "2023-01-05  ASN00066037  SYDNEY AIRPORT AMO, AS  0.00  73.0  81.0  64.0   \n",
       "2023-01-06  ASN00066037  SYDNEY AIRPORT AMO, AS  0.01  73.0  81.0  64.0   \n",
       "2023-01-07  ASN00066037  SYDNEY AIRPORT AMO, AS  0.01  73.0  81.0  64.0   \n",
       "2023-01-08  ASN00066037  SYDNEY AIRPORT AMO, AS  0.00  73.0  81.0  64.0   \n",
       "\n",
       "            target  \n",
       "DATE                \n",
       "1980-01-01    69.0  \n",
       "1980-01-02    77.0  \n",
       "1980-01-03    83.0  \n",
       "1980-01-04    76.0  \n",
       "1980-01-05    78.0  \n",
       "...            ...  \n",
       "2023-01-04    81.0  \n",
       "2023-01-05    81.0  \n",
       "2023-01-06    81.0  \n",
       "2023-01-07    81.0  \n",
       "2023-01-08     NaN  \n",
       "\n",
       "[15714 rows x 7 columns]"
      ]
     },
     "execution_count": 49,
     "metadata": {},
     "output_type": "execute_result"
    }
   ],
   "source": [
    "weather[\"target\"] = weather.shift(-1)[\"TMAX\"]\n",
    "weather"
   ]
  },
  {
   "cell_type": "code",
   "execution_count": 50,
   "metadata": {},
   "outputs": [
    {
     "data": {
      "text/html": [
       "<div>\n",
       "<style scoped>\n",
       "    .dataframe tbody tr th:only-of-type {\n",
       "        vertical-align: middle;\n",
       "    }\n",
       "\n",
       "    .dataframe tbody tr th {\n",
       "        vertical-align: top;\n",
       "    }\n",
       "\n",
       "    .dataframe thead th {\n",
       "        text-align: right;\n",
       "    }\n",
       "</style>\n",
       "<table border=\"1\" class=\"dataframe\">\n",
       "  <thead>\n",
       "    <tr style=\"text-align: right;\">\n",
       "      <th></th>\n",
       "      <th>STATION</th>\n",
       "      <th>NAME</th>\n",
       "      <th>PRCP</th>\n",
       "      <th>TAVG</th>\n",
       "      <th>TMAX</th>\n",
       "      <th>TMIN</th>\n",
       "      <th>target</th>\n",
       "    </tr>\n",
       "    <tr>\n",
       "      <th>DATE</th>\n",
       "      <th></th>\n",
       "      <th></th>\n",
       "      <th></th>\n",
       "      <th></th>\n",
       "      <th></th>\n",
       "      <th></th>\n",
       "      <th></th>\n",
       "    </tr>\n",
       "  </thead>\n",
       "  <tbody>\n",
       "    <tr>\n",
       "      <th>1980-01-01</th>\n",
       "      <td>ASN00066037</td>\n",
       "      <td>SYDNEY AIRPORT AMO, AS</td>\n",
       "      <td>0.00</td>\n",
       "      <td>68.0</td>\n",
       "      <td>77.0</td>\n",
       "      <td>70.0</td>\n",
       "      <td>69.0</td>\n",
       "    </tr>\n",
       "    <tr>\n",
       "      <th>1980-01-02</th>\n",
       "      <td>ASN00066037</td>\n",
       "      <td>SYDNEY AIRPORT AMO, AS</td>\n",
       "      <td>0.71</td>\n",
       "      <td>67.0</td>\n",
       "      <td>69.0</td>\n",
       "      <td>64.0</td>\n",
       "      <td>77.0</td>\n",
       "    </tr>\n",
       "    <tr>\n",
       "      <th>1980-01-03</th>\n",
       "      <td>ASN00066037</td>\n",
       "      <td>SYDNEY AIRPORT AMO, AS</td>\n",
       "      <td>1.36</td>\n",
       "      <td>71.0</td>\n",
       "      <td>77.0</td>\n",
       "      <td>65.0</td>\n",
       "      <td>83.0</td>\n",
       "    </tr>\n",
       "    <tr>\n",
       "      <th>1980-01-04</th>\n",
       "      <td>ASN00066037</td>\n",
       "      <td>SYDNEY AIRPORT AMO, AS</td>\n",
       "      <td>0.53</td>\n",
       "      <td>71.0</td>\n",
       "      <td>83.0</td>\n",
       "      <td>69.0</td>\n",
       "      <td>76.0</td>\n",
       "    </tr>\n",
       "    <tr>\n",
       "      <th>1980-01-05</th>\n",
       "      <td>ASN00066037</td>\n",
       "      <td>SYDNEY AIRPORT AMO, AS</td>\n",
       "      <td>0.00</td>\n",
       "      <td>71.0</td>\n",
       "      <td>76.0</td>\n",
       "      <td>65.0</td>\n",
       "      <td>78.0</td>\n",
       "    </tr>\n",
       "    <tr>\n",
       "      <th>...</th>\n",
       "      <td>...</td>\n",
       "      <td>...</td>\n",
       "      <td>...</td>\n",
       "      <td>...</td>\n",
       "      <td>...</td>\n",
       "      <td>...</td>\n",
       "      <td>...</td>\n",
       "    </tr>\n",
       "    <tr>\n",
       "      <th>2023-01-04</th>\n",
       "      <td>ASN00066037</td>\n",
       "      <td>SYDNEY AIRPORT AMO, AS</td>\n",
       "      <td>0.00</td>\n",
       "      <td>73.0</td>\n",
       "      <td>81.0</td>\n",
       "      <td>64.0</td>\n",
       "      <td>81.0</td>\n",
       "    </tr>\n",
       "    <tr>\n",
       "      <th>2023-01-05</th>\n",
       "      <td>ASN00066037</td>\n",
       "      <td>SYDNEY AIRPORT AMO, AS</td>\n",
       "      <td>0.00</td>\n",
       "      <td>73.0</td>\n",
       "      <td>81.0</td>\n",
       "      <td>64.0</td>\n",
       "      <td>81.0</td>\n",
       "    </tr>\n",
       "    <tr>\n",
       "      <th>2023-01-06</th>\n",
       "      <td>ASN00066037</td>\n",
       "      <td>SYDNEY AIRPORT AMO, AS</td>\n",
       "      <td>0.01</td>\n",
       "      <td>73.0</td>\n",
       "      <td>81.0</td>\n",
       "      <td>64.0</td>\n",
       "      <td>81.0</td>\n",
       "    </tr>\n",
       "    <tr>\n",
       "      <th>2023-01-07</th>\n",
       "      <td>ASN00066037</td>\n",
       "      <td>SYDNEY AIRPORT AMO, AS</td>\n",
       "      <td>0.01</td>\n",
       "      <td>73.0</td>\n",
       "      <td>81.0</td>\n",
       "      <td>64.0</td>\n",
       "      <td>81.0</td>\n",
       "    </tr>\n",
       "    <tr>\n",
       "      <th>2023-01-08</th>\n",
       "      <td>ASN00066037</td>\n",
       "      <td>SYDNEY AIRPORT AMO, AS</td>\n",
       "      <td>0.00</td>\n",
       "      <td>73.0</td>\n",
       "      <td>81.0</td>\n",
       "      <td>64.0</td>\n",
       "      <td>81.0</td>\n",
       "    </tr>\n",
       "  </tbody>\n",
       "</table>\n",
       "<p>15714 rows × 7 columns</p>\n",
       "</div>"
      ],
      "text/plain": [
       "                STATION                    NAME  PRCP  TAVG  TMAX  TMIN  \\\n",
       "DATE                                                                      \n",
       "1980-01-01  ASN00066037  SYDNEY AIRPORT AMO, AS  0.00  68.0  77.0  70.0   \n",
       "1980-01-02  ASN00066037  SYDNEY AIRPORT AMO, AS  0.71  67.0  69.0  64.0   \n",
       "1980-01-03  ASN00066037  SYDNEY AIRPORT AMO, AS  1.36  71.0  77.0  65.0   \n",
       "1980-01-04  ASN00066037  SYDNEY AIRPORT AMO, AS  0.53  71.0  83.0  69.0   \n",
       "1980-01-05  ASN00066037  SYDNEY AIRPORT AMO, AS  0.00  71.0  76.0  65.0   \n",
       "...                 ...                     ...   ...   ...   ...   ...   \n",
       "2023-01-04  ASN00066037  SYDNEY AIRPORT AMO, AS  0.00  73.0  81.0  64.0   \n",
       "2023-01-05  ASN00066037  SYDNEY AIRPORT AMO, AS  0.00  73.0  81.0  64.0   \n",
       "2023-01-06  ASN00066037  SYDNEY AIRPORT AMO, AS  0.01  73.0  81.0  64.0   \n",
       "2023-01-07  ASN00066037  SYDNEY AIRPORT AMO, AS  0.01  73.0  81.0  64.0   \n",
       "2023-01-08  ASN00066037  SYDNEY AIRPORT AMO, AS  0.00  73.0  81.0  64.0   \n",
       "\n",
       "            target  \n",
       "DATE                \n",
       "1980-01-01    69.0  \n",
       "1980-01-02    77.0  \n",
       "1980-01-03    83.0  \n",
       "1980-01-04    76.0  \n",
       "1980-01-05    78.0  \n",
       "...            ...  \n",
       "2023-01-04    81.0  \n",
       "2023-01-05    81.0  \n",
       "2023-01-06    81.0  \n",
       "2023-01-07    81.0  \n",
       "2023-01-08    81.0  \n",
       "\n",
       "[15714 rows x 7 columns]"
      ]
     },
     "execution_count": 50,
     "metadata": {},
     "output_type": "execute_result"
    }
   ],
   "source": [
    "weather = weather.ffill()\n",
    "weather"
   ]
  },
  {
   "cell_type": "code",
   "execution_count": 52,
   "metadata": {},
   "outputs": [],
   "source": [
    "from sklearn.linear_model import Ridge\n",
    "rr = Ridge(alpha=0.1)"
   ]
  },
  {
   "cell_type": "code",
   "execution_count": 54,
   "metadata": {},
   "outputs": [
    {
     "data": {
      "text/plain": [
       "Index(['PRCP', 'TAVG', 'TMAX', 'TMIN'], dtype='object')"
      ]
     },
     "execution_count": 54,
     "metadata": {},
     "output_type": "execute_result"
    }
   ],
   "source": [
    "predictors = weather.columns[~weather.columns.isin([\"target\", \"NAME\", \"STATION\"])]\n",
    "predictors"
   ]
  },
  {
   "attachments": {},
   "cell_type": "markdown",
   "metadata": {},
   "source": [
    "Time series data --> use back testing or time seres cross validation to account for the time series nature of the data"
   ]
  },
  {
   "cell_type": "code",
   "execution_count": 55,
   "metadata": {},
   "outputs": [],
   "source": [
    "def backtest(weather, model, predictors, start=3650, step=90):\n",
    "    all_predictions = []\n",
    "\n",
    "    for i in range(start, weather.shape[0], step):\n",
    "        train = weather.iloc[:i, :]\n",
    "        test = weather.iloc[i:(i+step),:]\n",
    "\n",
    "        model.fit(train[predictors], train[\"target\"])\n",
    "\n",
    "        preds = model.predict(test[predictors])\n",
    "\n",
    "        preds = pd.Series(preds, index=test.index)\n",
    "        combined = pd.concat([test[\"target\"], preds], axis=1)\n",
    "\n",
    "        combined.columns = [\"actual\", \"prediction\"]\n",
    "\n",
    "        combined[\"diff\"] = (combined[\"prediction\"] - combined[\"actual\"]).abs()\n",
    "        all_predictions.append(combined)\n",
    "    return pd.concat(all_predictions) "
   ]
  },
  {
   "cell_type": "code",
   "execution_count": 56,
   "metadata": {},
   "outputs": [
    {
     "data": {
      "text/html": [
       "<div>\n",
       "<style scoped>\n",
       "    .dataframe tbody tr th:only-of-type {\n",
       "        vertical-align: middle;\n",
       "    }\n",
       "\n",
       "    .dataframe tbody tr th {\n",
       "        vertical-align: top;\n",
       "    }\n",
       "\n",
       "    .dataframe thead th {\n",
       "        text-align: right;\n",
       "    }\n",
       "</style>\n",
       "<table border=\"1\" class=\"dataframe\">\n",
       "  <thead>\n",
       "    <tr style=\"text-align: right;\">\n",
       "      <th></th>\n",
       "      <th>actual</th>\n",
       "      <th>prediction</th>\n",
       "      <th>diff</th>\n",
       "    </tr>\n",
       "    <tr>\n",
       "      <th>DATE</th>\n",
       "      <th></th>\n",
       "      <th></th>\n",
       "      <th></th>\n",
       "    </tr>\n",
       "  </thead>\n",
       "  <tbody>\n",
       "    <tr>\n",
       "      <th>1989-12-29</th>\n",
       "      <td>81.0</td>\n",
       "      <td>77.388780</td>\n",
       "      <td>3.611220</td>\n",
       "    </tr>\n",
       "    <tr>\n",
       "      <th>1989-12-30</th>\n",
       "      <td>81.0</td>\n",
       "      <td>79.097381</td>\n",
       "      <td>1.902619</td>\n",
       "    </tr>\n",
       "    <tr>\n",
       "      <th>1989-12-31</th>\n",
       "      <td>93.0</td>\n",
       "      <td>81.987152</td>\n",
       "      <td>11.012848</td>\n",
       "    </tr>\n",
       "    <tr>\n",
       "      <th>1990-01-01</th>\n",
       "      <td>75.0</td>\n",
       "      <td>79.887404</td>\n",
       "      <td>4.887404</td>\n",
       "    </tr>\n",
       "    <tr>\n",
       "      <th>1990-01-02</th>\n",
       "      <td>90.0</td>\n",
       "      <td>77.361620</td>\n",
       "      <td>12.638380</td>\n",
       "    </tr>\n",
       "    <tr>\n",
       "      <th>...</th>\n",
       "      <td>...</td>\n",
       "      <td>...</td>\n",
       "      <td>...</td>\n",
       "    </tr>\n",
       "    <tr>\n",
       "      <th>2023-01-04</th>\n",
       "      <td>81.0</td>\n",
       "      <td>80.747842</td>\n",
       "      <td>0.252158</td>\n",
       "    </tr>\n",
       "    <tr>\n",
       "      <th>2023-01-05</th>\n",
       "      <td>81.0</td>\n",
       "      <td>80.751916</td>\n",
       "      <td>0.248084</td>\n",
       "    </tr>\n",
       "    <tr>\n",
       "      <th>2023-01-06</th>\n",
       "      <td>81.0</td>\n",
       "      <td>80.743136</td>\n",
       "      <td>0.256864</td>\n",
       "    </tr>\n",
       "    <tr>\n",
       "      <th>2023-01-07</th>\n",
       "      <td>81.0</td>\n",
       "      <td>80.743136</td>\n",
       "      <td>0.256864</td>\n",
       "    </tr>\n",
       "    <tr>\n",
       "      <th>2023-01-08</th>\n",
       "      <td>81.0</td>\n",
       "      <td>80.751916</td>\n",
       "      <td>0.248084</td>\n",
       "    </tr>\n",
       "  </tbody>\n",
       "</table>\n",
       "<p>12064 rows × 3 columns</p>\n",
       "</div>"
      ],
      "text/plain": [
       "            actual  prediction       diff\n",
       "DATE                                     \n",
       "1989-12-29    81.0   77.388780   3.611220\n",
       "1989-12-30    81.0   79.097381   1.902619\n",
       "1989-12-31    93.0   81.987152  11.012848\n",
       "1990-01-01    75.0   79.887404   4.887404\n",
       "1990-01-02    90.0   77.361620  12.638380\n",
       "...            ...         ...        ...\n",
       "2023-01-04    81.0   80.747842   0.252158\n",
       "2023-01-05    81.0   80.751916   0.248084\n",
       "2023-01-06    81.0   80.743136   0.256864\n",
       "2023-01-07    81.0   80.743136   0.256864\n",
       "2023-01-08    81.0   80.751916   0.248084\n",
       "\n",
       "[12064 rows x 3 columns]"
      ]
     },
     "execution_count": 56,
     "metadata": {},
     "output_type": "execute_result"
    }
   ],
   "source": [
    "predictions = backtest(weather, rr, predictors)\n",
    "predictions"
   ]
  },
  {
   "attachments": {},
   "cell_type": "markdown",
   "metadata": {},
   "source": [
    "using mean absolute error to calculate the error of our model"
   ]
  },
  {
   "cell_type": "code",
   "execution_count": 57,
   "metadata": {},
   "outputs": [
    {
     "data": {
      "text/plain": [
       "4.195782687343803"
      ]
     },
     "execution_count": 57,
     "metadata": {},
     "output_type": "execute_result"
    }
   ],
   "source": [
    "from sklearn.metrics import mean_absolute_error\n",
    "mean_absolute_error(predictions[\"actual\"], predictions[\"prediction\"])"
   ]
  },
  {
   "cell_type": "code",
   "execution_count": null,
   "metadata": {},
   "outputs": [],
   "source": []
  }
 ],
 "metadata": {
  "kernelspec": {
   "display_name": "weatherenv",
   "language": "python",
   "name": "python3"
  },
  "language_info": {
   "codemirror_mode": {
    "name": "ipython",
    "version": 3
   },
   "file_extension": ".py",
   "mimetype": "text/x-python",
   "name": "python",
   "nbconvert_exporter": "python",
   "pygments_lexer": "ipython3",
   "version": "3.10.9"
  },
  "orig_nbformat": 4,
  "vscode": {
   "interpreter": {
    "hash": "b4d17591ae202fd84b6ae5c1e2308640161833cd85b23bc2ceada93a900d2c47"
   }
  }
 },
 "nbformat": 4,
 "nbformat_minor": 2
}
